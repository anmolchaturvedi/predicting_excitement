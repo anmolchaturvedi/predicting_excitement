{
 "cells": [
  {
   "cell_type": "code",
   "execution_count": 1,
   "metadata": {},
   "outputs": [],
   "source": [
    "import numpy as np\n",
    "import pandas as pd\n",
    "import seaborn as sns\n",
    "from matplotlib import pyplot as plt\n",
    "from itertools import product\n",
    "import math\n",
    "import re\n",
    "from sklearn.tree import DecisionTreeClassifier\n",
    "from sklearn.model_selection import train_test_split\n",
    "from sklearn.metrics import accuracy_score as accuracy\n",
    "import graphviz \n",
    "from datetime import datetime, timedelta\n",
    "\n",
    "# personal modules\n",
    "import ml_pipeline_lch as ml\n",
    "import ml_explore as exp\n",
    "import ml_modeling as md\n",
    "\n",
    "\n",
    "sns.set(style = \"ticks\", color_codes = True)\n",
    "%matplotlib inline "
   ]
  },
  {
   "cell_type": "markdown",
   "metadata": {},
   "source": [
    "### Read and Pre-Process Data"
   ]
  },
  {
   "cell_type": "markdown",
   "metadata": {},
   "source": [
    "#### Read Data"
   ]
  },
  {
   "cell_type": "code",
   "execution_count": 2,
   "metadata": {},
   "outputs": [],
   "source": [
    "outcomes_df = ml.retrieve_data(filename = 'data/outcomes.csv', headers = True, set_ind = 0)"
   ]
  },
  {
   "cell_type": "code",
   "execution_count": null,
   "metadata": {},
   "outputs": [],
   "source": [
    "projects_df = ml.retrieve_data(filename = 'data/projects.csv', headers = True, set_ind = 0)"
   ]
  },
  {
   "cell_type": "code",
   "execution_count": null,
   "metadata": {},
   "outputs": [],
   "source": [
    "project_info = pd.merge(projects_df, outcomes_df, how = 'outer', right_index = True, left_index = True)"
   ]
  },
  {
   "cell_type": "code",
   "execution_count": null,
   "metadata": {},
   "outputs": [],
   "source": [
    "project_info.head()"
   ]
  },
  {
   "cell_type": "code",
   "execution_count": null,
   "metadata": {},
   "outputs": [],
   "source": [
    "project_info.date_posted.dtype"
   ]
  },
  {
   "cell_type": "code",
   "execution_count": null,
   "metadata": {},
   "outputs": [],
   "source": [
    "project_info['date_posted'] = ml.convert_dates(project_info['date_posted'])"
   ]
  },
  {
   "cell_type": "code",
   "execution_count": null,
   "metadata": {},
   "outputs": [],
   "source": [
    "project_info['year'] = project_info['date_posted'].apply(lambda x: x.year)"
   ]
  },
  {
   "cell_type": "code",
   "execution_count": null,
   "metadata": {},
   "outputs": [],
   "source": [
    "project_info['year'] = project_info[project_info['year'].isin([2011, 2012, 2013])]"
   ]
  },
  {
   "cell_type": "code",
   "execution_count": null,
   "metadata": {},
   "outputs": [],
   "source": [
    "pd.Series(project_info.columns)"
   ]
  },
  {
   "cell_type": "code",
   "execution_count": null,
   "metadata": {},
   "outputs": [],
   "source": [
    "project_info.describe().round(3).transpose()"
   ]
  },
  {
   "cell_type": "code",
   "execution_count": null,
   "metadata": {},
   "outputs": [],
   "source": [
    "# create quick reference for accessing columns\n",
    "col_ref = ml.create_col_ref(project_info)\n",
    "col_ref"
   ]
  },
  {
   "cell_type": "code",
   "execution_count": null,
   "metadata": {},
   "outputs": [],
   "source": [
    "# check column types\n",
    "project_info.dtypes"
   ]
  },
  {
   "cell_type": "code",
   "execution_count": null,
   "metadata": {},
   "outputs": [],
   "source": [
    "maxes = ml.view_max_mins(project_info, max = True)\n",
    "maxes.tail().round(2)"
   ]
  },
  {
   "cell_type": "code",
   "execution_count": null,
   "metadata": {},
   "outputs": [],
   "source": [
    "likely_outliers_upper = ml.view_likely_outliers(project_info)\n",
    "likely_outliers_upper.tail()"
   ]
  },
  {
   "cell_type": "code",
   "execution_count": null,
   "metadata": {},
   "outputs": [],
   "source": [
    "mins = ml.view_max_mins(project_info, max = False)\n",
    "mins"
   ]
  },
  {
   "cell_type": "code",
   "execution_count": null,
   "metadata": {
    "scrolled": true
   },
   "outputs": [],
   "source": [
    "likely_outliers_lower = ml.view_likely_outliers(project_info, max = False)\n",
    "likely_outliers_lower"
   ]
  },
  {
   "cell_type": "code",
   "execution_count": null,
   "metadata": {},
   "outputs": [],
   "source": [
    "manip_df = project_info[project_info.columns]"
   ]
  },
  {
   "cell_type": "code",
   "execution_count": null,
   "metadata": {},
   "outputs": [],
   "source": [
    "# total price and students reached values should not be inf \n",
    "ml.remove_over_under_threshold(manip_df, col = 'total_price_excluding_optional_support', min_val = 0, max_val = False, lwr_threshold = 0.001, upr_threshold = False)\n",
    "ml.remove_over_under_threshold(manip_df, col = 'total_price_including_optional_support', min_val = 0, max_val = False, lwr_threshold = 0.001, upr_threshold = False)\n",
    "ml.remove_over_under_threshold(manip_df, col = 'students_reached', min_val = 0, max_val = False, lwr_threshold = 0.005, upr_threshold = False)\n"
   ]
  },
  {
   "cell_type": "code",
   "execution_count": null,
   "metadata": {},
   "outputs": [],
   "source": [
    "# check that expected values were removed\n",
    "likely_outliers_lower_post = ml.view_likely_outliers(manip_df, max = False)\n",
    "likely_outliers_lower_post"
   ]
  },
  {
   "cell_type": "code",
   "execution_count": null,
   "metadata": {},
   "outputs": [],
   "source": [
    "ml.print_null_freq(manip_df)"
   ]
  },
  {
   "cell_type": "code",
   "execution_count": null,
   "metadata": {},
   "outputs": [],
   "source": [
    "def record_nulls(df):\n",
    "    for col in list(df.columns):\n",
    "        title = col + \"_was_null\"\n",
    "        df[title] = df[col].isnull().astype(int)\n",
    "    df = df.loc[:, (df != 0).any(axis=0)]"
   ]
  },
  {
   "cell_type": "code",
   "execution_count": null,
   "metadata": {},
   "outputs": [],
   "source": [
    "record_nulls(manip_df)"
   ]
  },
  {
   "cell_type": "code",
   "execution_count": null,
   "metadata": {},
   "outputs": [],
   "source": [
    "manip_df.head()"
   ]
  },
  {
   "cell_type": "code",
   "execution_count": null,
   "metadata": {},
   "outputs": [],
   "source": [
    "# fill null values for which zero where it is most likely true value\n",
    "ml.basic_fill_vals(manip_df, \"at_least_1_green_donation\", method = \"zeros\")\n",
    "ml.basic_fill_vals(manip_df, \"at_least_1_teacher_referred_donor\", method = \"zeros\")\n",
    "ml.basic_fill_vals(manip_df, \"donation_from_thoughtful_donor\", method = \"zeros\")\n",
    "ml.basic_fill_vals(manip_df, \"fully_funded\", method = \"zeros\")\n",
    "ml.basic_fill_vals(manip_df, \"great_chat\", method = \"zeros\")\n",
    "ml.basic_fill_vals(manip_df, \"is_exciting\", method = \"zeros\")\n",
    "ml.basic_fill_vals(manip_df, \"one_non_teacher_referred_donor_giving_100_plus\", method = \"zeros\")\n",
    "ml.basic_fill_vals(manip_df, \"three_or_more_non_teacher_referred_donors\", method = \"zeros\")\n",
    "\n"
   ]
  },
  {
   "cell_type": "code",
   "execution_count": null,
   "metadata": {},
   "outputs": [],
   "source": [
    "ml.print_null_freq(manip_df)"
   ]
  },
  {
   "cell_type": "code",
   "execution_count": null,
   "metadata": {},
   "outputs": [],
   "source": [
    "exp.view_dist(manip_df, geo_columns= True,\n",
    "             fig_size = (20, 20),\n",
    "             labels = [\"Feature Distributions\", \"Feature\", \"Frequency\"])\n"
   ]
  },
  {
   "cell_type": "code",
   "execution_count": null,
   "metadata": {},
   "outputs": [],
   "source": [
    "exp.view_dist(project_info, geo_columns= True,\n",
    "             fig_size = (20, 20),\n",
    "             labels = [\"Feature Distributions\", \"Feature\", \"Frequency\"])\n"
   ]
  },
  {
   "cell_type": "code",
   "execution_count": null,
   "metadata": {},
   "outputs": [],
   "source": []
  }
 ],
 "metadata": {
  "kernelspec": {
   "display_name": "Python 3",
   "language": "python",
   "name": "python3"
  },
  "language_info": {
   "codemirror_mode": {
    "name": "ipython",
    "version": 3
   },
   "file_extension": ".py",
   "mimetype": "text/x-python",
   "name": "python",
   "nbconvert_exporter": "python",
   "pygments_lexer": "ipython3",
   "version": "3.6.5"
  }
 },
 "nbformat": 4,
 "nbformat_minor": 2
}
